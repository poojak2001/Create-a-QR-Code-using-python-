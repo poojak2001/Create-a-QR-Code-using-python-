{
 "cells": [
  {
   "cell_type": "code",
   "execution_count": 1,
   "id": "ea069b81",
   "metadata": {},
   "outputs": [
    {
     "name": "stdout",
     "output_type": "stream",
     "text": [
      "Defaulting to user installation because normal site-packages is not writeable\n",
      "Collecting qrcode\n",
      "  Downloading qrcode-7.4.2-py3-none-any.whl (46 kB)\n",
      "     -------------------------------------- 46.2/46.2 kB 153.0 kB/s eta 0:00:00\n",
      "Requirement already satisfied: colorama in c:\\anpo\\lib\\site-packages (from qrcode) (0.4.6)\n",
      "Collecting pypng\n",
      "  Downloading pypng-0.20220715.0-py3-none-any.whl (58 kB)\n",
      "     -------------------------------------- 58.1/58.1 kB 613.0 kB/s eta 0:00:00\n",
      "Requirement already satisfied: typing-extensions in c:\\anpo\\lib\\site-packages (from qrcode) (4.4.0)\n",
      "Installing collected packages: pypng, qrcode\n",
      "Successfully installed pypng-0.20220715.0 qrcode-7.4.2\n",
      "Note: you may need to restart the kernel to use updated packages.\n"
     ]
    },
    {
     "name": "stderr",
     "output_type": "stream",
     "text": [
      "  WARNING: The script qr.exe is installed in 'C:\\Users\\POOJA\\AppData\\Roaming\\Python\\Python310\\Scripts' which is not on PATH.\n",
      "  Consider adding this directory to PATH or, if you prefer to suppress this warning, use --no-warn-script-location.\n"
     ]
    }
   ],
   "source": [
    "pip install qrcode"
   ]
  },
  {
   "cell_type": "code",
   "execution_count": 2,
   "id": "23561505",
   "metadata": {},
   "outputs": [
    {
     "name": "stdout",
     "output_type": "stream",
     "text": [
      "Defaulting to user installation because normal site-packages is not writeable\n",
      "Collecting image\n",
      "  Downloading image-1.5.33.tar.gz (15 kB)\n",
      "  Preparing metadata (setup.py): started\n",
      "  Preparing metadata (setup.py): finished with status 'done'\n",
      "Requirement already satisfied: pillow in c:\\anpo\\lib\\site-packages (from image) (9.4.0)\n",
      "Collecting django\n",
      "  Downloading Django-4.2.3-py3-none-any.whl (8.0 MB)\n",
      "     ---------------------------------------- 8.0/8.0 MB 291.7 kB/s eta 0:00:00\n",
      "Requirement already satisfied: six in c:\\anpo\\lib\\site-packages (from image) (1.16.0)\n",
      "Collecting asgiref<4,>=3.6.0\n",
      "  Downloading asgiref-3.7.2-py3-none-any.whl (24 kB)\n",
      "Collecting sqlparse>=0.3.1\n",
      "  Downloading sqlparse-0.4.4-py3-none-any.whl (41 kB)\n",
      "     -------------------------------------- 41.2/41.2 kB 283.9 kB/s eta 0:00:00\n",
      "Requirement already satisfied: tzdata in c:\\users\\pooja\\appdata\\roaming\\python\\python310\\site-packages (from django->image) (2023.3)\n",
      "Requirement already satisfied: typing-extensions>=4 in c:\\anpo\\lib\\site-packages (from asgiref<4,>=3.6.0->django->image) (4.4.0)\n",
      "Building wheels for collected packages: image\n",
      "  Building wheel for image (setup.py): started\n",
      "  Building wheel for image (setup.py): finished with status 'done'\n",
      "  Created wheel for image: filename=image-1.5.33-py2.py3-none-any.whl size=19489 sha256=277e072a3dc936861c301d950f51618f5aa77770e1b7a7a978dae8e4bf9dbaff\n",
      "  Stored in directory: c:\\users\\pooja\\appdata\\local\\pip\\cache\\wheels\\2a\\dc\\da\\70a396df2ea3dabe2bdc7665fba2a1697a674a63ce7539c18c\n",
      "Successfully built image\n",
      "Installing collected packages: sqlparse, asgiref, django, image\n",
      "Successfully installed asgiref-3.7.2 django-4.2.3 image-1.5.33 sqlparse-0.4.4\n",
      "Note: you may need to restart the kernel to use updated packages.\n"
     ]
    },
    {
     "name": "stderr",
     "output_type": "stream",
     "text": [
      "  WARNING: The script sqlformat.exe is installed in 'C:\\Users\\POOJA\\AppData\\Roaming\\Python\\Python310\\Scripts' which is not on PATH.\n",
      "  Consider adding this directory to PATH or, if you prefer to suppress this warning, use --no-warn-script-location.\n",
      "  WARNING: The script django-admin.exe is installed in 'C:\\Users\\POOJA\\AppData\\Roaming\\Python\\Python310\\Scripts' which is not on PATH.\n",
      "  Consider adding this directory to PATH or, if you prefer to suppress this warning, use --no-warn-script-location.\n"
     ]
    }
   ],
   "source": [
    "pip install image"
   ]
  },
  {
   "cell_type": "code",
   "execution_count": 1,
   "id": "0f2b7d09",
   "metadata": {},
   "outputs": [],
   "source": [
    "import qrcode\n",
    "import image\n",
    "qr=qrcode.QRCode(version=15, box_size=5,border=5)\n",
    "data=\"HELLO THIS IS PJROCKSTAR\"\n",
    "qr.add_data(data)\n",
    "qr.make(fit=True)\n",
    "img=qr.make_image(fill=\"white\",back_color=\"blue\")\n",
    "img.save(\"qr4.png\")"
   ]
  },
  {
   "cell_type": "code",
   "execution_count": null,
   "id": "c5a4b362",
   "metadata": {},
   "outputs": [],
   "source": []
  }
 ],
 "metadata": {
  "kernelspec": {
   "display_name": "Python 3 (ipykernel)",
   "language": "python",
   "name": "python3"
  },
  "language_info": {
   "codemirror_mode": {
    "name": "ipython",
    "version": 3
   },
   "file_extension": ".py",
   "mimetype": "text/x-python",
   "name": "python",
   "nbconvert_exporter": "python",
   "pygments_lexer": "ipython3",
   "version": "3.10.9"
  }
 },
 "nbformat": 4,
 "nbformat_minor": 5
}
